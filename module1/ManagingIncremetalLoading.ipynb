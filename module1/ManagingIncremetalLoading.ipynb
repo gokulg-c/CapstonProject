{
 "cells": [
  {
   "cell_type": "code",
   "execution_count": 0,
   "metadata": {
    "application/vnd.databricks.v1+cell": {
     "cellMetadata": {
      "byteLimit": 2048000,
      "rowLimit": 10000
     },
     "inputWidgets": {},
     "nuid": "a729d125-c5da-4a31-b2e0-ec9712c8961e",
     "showTitle": false,
     "title": ""
    }
   },
   "outputs": [],
   "source": [
    "container_name = \"incrementaldata\"\n",
    "account_name = \"wetelco\"\n",
    "storage_account_key = \"mG0nyBLqrK4T4SJnHOnc3ZBAf/Nkeu7f57Jro3o9ZJAz0ipXPtHkDlOCvaPefzadKSCl5UD97XiL+AStlZdB0Q==\"\n",
    "mount_point = \"/mnt/wetelcodataincremental\"\n",
    "# Check if the storage is already mounted\n",
    "mounts = dbutils.fs.mounts()\n",
    "is_mounted = False\n",
    "for mount in mounts:\n",
    "  if mount.mountPoint == mount_point:\n",
    "    is_mounted = True\n",
    "\n",
    "# If not mounted, then mount it\n",
    "if not is_mounted:\n",
    "    dbutils.fs.mount(\n",
    "      source='wasbs://{0}@{1}.blob.core.windows.net'.format(container_name,account_name),\n",
    "      mount_point = mount_point,\n",
    "      extra_configs  = {f\"fs.azure.account.key.{account_name}.blob.core.windows.net\" : storage_account_key}\n",
    "    )\n",
    "    print(f\"Storage mounted at {mount_point}\")\n",
    "else:\n",
    "    print(f\"Storage is already mounted at {mount_point}\")"
   ]
  },
  {
   "cell_type": "code",
   "execution_count": 0,
   "metadata": {
    "application/vnd.databricks.v1+cell": {
     "cellMetadata": {
      "byteLimit": 2048000,
      "rowLimit": 10000
     },
     "inputWidgets": {},
     "nuid": "c633c8c0-749c-4a4c-a39b-6db9dfca266f",
     "showTitle": false,
     "title": ""
    }
   },
   "outputs": [],
   "source": [
    "files = dbutils.fs.ls(\"/mnt/wetelcodataincremental\")"
   ]
  },
  {
   "cell_type": "code",
   "execution_count": 0,
   "metadata": {
    "application/vnd.databricks.v1+cell": {
     "cellMetadata": {
      "byteLimit": 2048000,
      "rowLimit": 10000
     },
     "inputWidgets": {},
     "nuid": "c4e82d86-b2a8-4c63-852f-2729649dafad",
     "showTitle": false,
     "title": ""
    }
   },
   "outputs": [],
   "source": [
    "files[0].path"
   ]
  },
  {
   "cell_type": "code",
   "execution_count": 0,
   "metadata": {
    "application/vnd.databricks.v1+cell": {
     "cellMetadata": {
      "byteLimit": 2048000,
      "rowLimit": 10000
     },
     "inputWidgets": {},
     "nuid": "f6cddb11-e239-4262-aeb0-e99e7ae16b1d",
     "showTitle": false,
     "title": ""
    }
   },
   "outputs": [],
   "source": [
    "billing_partition_df_list = []\n",
    "for file in files:\n",
    "    billing_partition_df_list.append(spark.read.csv(file.path))"
   ]
  },
  {
   "cell_type": "code",
   "execution_count": 0,
   "metadata": {
    "application/vnd.databricks.v1+cell": {
     "cellMetadata": {},
     "inputWidgets": {},
     "nuid": "6ac0cbcb-2b4e-4752-8f0c-4e9f09439275",
     "showTitle": false,
     "title": ""
    }
   },
   "outputs": [],
   "source": [
    "from delta.tables import *\n",
    "def mergeDataInToDataBase(deltalake_database,dataframelist,unique_id):\n",
    "    for df in dataframelist:\n",
    "        deltalake_database.alias(\"Target\")\\\n",
    "            .merge(\n",
    "                    source = df.alias(\"Source\"),\n",
    "                    condition = f\"Target.{unique_id} = Source.{unique_id}\"\n",
    "                )\\\n",
    "            .whenMatchedUpdateAll()\\\n",
    "            .whenNotMatchedInsertAll()\\\n",
    "            .execute()"
   ]
  },
  {
   "cell_type": "code",
   "execution_count": 0,
   "metadata": {
    "application/vnd.databricks.v1+cell": {
     "cellMetadata": {},
     "inputWidgets": {},
     "nuid": "df3a30bd-6759-4b9a-a24e-ac4f295db34e",
     "showTitle": false,
     "title": ""
    }
   },
   "outputs": [],
   "source": [
    "from delta.tables import *\n",
    "billing_partition_delta = DeltaTable.forName(spark, \"bronzelayerdb.billing_partition_df\")\n",
    "\n",
    "mergeDataInToDataBase(billing_partition_delta,billing_partition_df_list,\"billing_id\")"
   ]
  }
 ],
 "metadata": {
  "application/vnd.databricks.v1+notebook": {
   "dashboards": [],
   "language": "python",
   "notebookMetadata": {
    "pythonIndentUnit": 4
   },
   "notebookName": "ManagingIncremetalLoading",
   "widgets": {}
  }
 },
 "nbformat": 4,
 "nbformat_minor": 0
}
